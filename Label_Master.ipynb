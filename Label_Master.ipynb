
import sys
import cv2
import numpy as np
from PyQt5.QtWidgets import QApplication, QMainWindow, QLabel, QPushButton, QVBoxLayout,QHBoxLayout, QWidget, QMessageBox
from PyQt5.QtGui import QPixmap, QImage
from PyQt5.QtCore import Qt, QPoint

class ShapeAnnotator(QMainWindow):
    def init(self):
        super().init()
        self.drawing = False
        self.start_point = None
        self.shape = 'circle'
        self.shapes = []  # List to store drawn shapes
        
        # Load the image
        self.orgimg = cv2.imread(r"C:\Users\TMpub\OneDrive\Desktop\books photo.jpeg")
        self.img = cv2.resize(self.orgimg, (600, 600))
        
        if self.img is None:
            QMessageBox.critical(self, "Error", "Could not read image")
            sys.exit()

        self.setWindowTitle("Shape Annotator")
        self.setGeometry(100, 100,800,800)
        
        self.label = QLabel(self)
        self.update_image()
        
        # Create buttons
        self.circle_button = QPushButton("Circle", self)
        self.circle_button.clicked.connect(lambda: self.change_shape('circle'))
        
        self.rectangle_button = QPushButton("Rectangle", self)
        self.rectangle_button.clicked.connect(lambda: self.change_shape('rectangle'))
        
        self.oval_button = QPushButton("Oval", self)
        self.oval_button.clicked.connect(lambda: self.change_shape('oval'))

        self.quit_button = QPushButton("Quit", self)
        self.quit_button.clicked.connect(self.close)

        # Layout
        layout =QHBoxLayout()
        layout1=QHBoxLayout()
        
        layout.addWidget(self.label)
        layout1.addWidget(self.circle_button)
        layout1.addWidget(self.rectangle_button)
        layout1.addWidget(self.oval_button)
        layout1.addWidget(self.quit_button)
        
        container1 = QWidget()
        container1.setLayout(layout1)
        layout.addWidget(container1)
        
        container = QWidget()
        container.setLayout(layout)
        self.setCentralWidget(container)

    def update_image(self):
        """Redraw all shapes on the image and update the QLabel."""
        img_copy = self.img.copy()
        for shape_info in self.shapes:
            shape_type, start, end = shape_info
            if shape_type == 'circle':
                radius = int(np.linalg.norm(np.array(start) - np.array(end)))
                cv2.circle(img_copy, start, radius, (0, 0, 255), thickness=2)
            elif shape_type == 'rectangle':
                cv2.rectangle(img_copy, start, end, (0, 255, 0), thickness=2)
            elif shape_type == 'oval':
                center = ((start[0] + end[0]) // 2, (start[1] + end[1]) // 2)
                axes = (abs(start[0] - end[0]) // 2, abs(start[1] - end[1]) // 2)
                cv2.ellipse(img_copy, center, axes, 0, 0, 360, (255, 0, 0), thickness=2)

        height, width, channel = img_copy.shape
        bytes_per_line = 3 * width
        q_img = QImage(img_copy.data, width, height, bytes_per_line, QImage.Format_BGR888)
        self.label.setPixmap(QPixmap.fromImage(q_img))

    def change_shape(self, new_shape):
        self.shape = new_shape

    def mousePressEvent(self, event):
        if event.button() == Qt.LeftButton:
            self.drawing = True
            self.start_point = QPoint(event.x() - self.label.x(), event.y() - self.label.y())

    def mouseMoveEvent(self, event):
        if self.drawing:
            end_point = QPoint(event.x() - self.label.x(), event.y() - self.label.y())
            self.update_temp_shape(end_point)

    def mouseReleaseEvent(self, event):
        if event.button() == Qt.LeftButton:
            self.drawing = False
            end_point = QPoint(event.x() - self.label.x(), event.y() - self.label.y())
            self.shapes.append((self.shape, (self.start_point.x(), self.start_point.y()), (end_point.x(), end_point.y())))
            self.update_image()

    def update_temp_shape(self, end_point):
        """Draw the temporary shape on the image without saving it."""
        img_copy = self.img.copy()


start_x, start_y = self.start_point.x(), self.start_point.y()
        end_x, end_y = end_point.x(), end_point.y()

        if self.shape == 'circle':
            radius = int(np.linalg.norm(np.array((start_x, start_y)) - np.array((end_x, end_y))))
            cv2.circle(img_copy, (start_x, start_y), radius, (0, 0, 255), thickness=2)
        elif self.shape == 'rectangle':
            cv2.rectangle(img_copy, (start_x, start_y), (end_x, end_y), (0, 255, 0), thickness=2)
        elif self.shape == 'oval':
            center = ((start_x + end_x) // 2, (start_y + end_y) // 2)
            axes = (abs(start_x - end_x) // 2, abs(start_y - end_y) // 2)
            cv2.ellipse(img_copy, center, axes, 0, 0, 360, (255, 0, 0), thickness=2)

        height, width, channel = img_copy.shape
        bytes_per_line = 3 * width
        q_img = QImage(img_copy.data, width, height, bytes_per_line, QImage.Format_BGR888)
        self.label.setPixmap(QPixmap.fromImage(q_img))


if name == 'main':
    app = QApplication(sys.argv)
    window = ShapeAnnotator()
    window.show()
    sys.exit(app.exec_())
